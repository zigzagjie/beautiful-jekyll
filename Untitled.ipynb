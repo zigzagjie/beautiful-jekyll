{
 "cells": [
  {
   "cell_type": "markdown",
   "metadata": {},
   "source": [
    "# Hello World (Updated September 2018)\n",
    "\n",
    "## Motivation\n",
    "\n",
    "Writing technical blogs is one of my new year resolutions in 2018. The goal is to share my experience related to data science. During taking data science projects/assignment, I have benefitted a lot from techniqcal blogs written by people from different backgrounds online. I would be more than happy if I can help others in return for anything.\n",
    "\n",
    "In addition, the blogs record my progress made so far. I know it might not be fancy and cutting-edge, but it is part of me. I believe in the work done step by step. I hope this website can last forever! \n",
    "\n",
    "## A little bit about me\n",
    "\n",
    "My dream is to be a data scientist in the near future. Driving insights from data is just cool. Beyong the data science, I have passion in exploring new things. You can know more from [about me](https://zigzagjie.github.io/aboutme/)\n",
    "\n",
    "\n",
    "## Topics Now and More\n",
    "\n",
    "For now, most of the blogs covered data manipulation and data visualization applied in Python with Pandas, Seaborn and Matplotlib packages. You can take a look by checking [projects](https://zigzagjie.github.io/projects/) in the navigation bar or here. As I am studying machine learning, topics will extend to modeling very soon. Hopefully, the blogs are not limited to programming and analytic skills. Let's see what will happen in the future!\n",
    "\n",
    "## Contact\n",
    "\n",
    "Any comments or questions about this website can be reached me directly by messaging me in LinkedIn or email to [me](jie.lou.cmu@gmail.com). Let's get connected!\n",
    "\n",
    "\n"
   ]
  }
 ],
 "metadata": {
  "kernelspec": {
   "display_name": "Python 3",
   "language": "python",
   "name": "python3"
  },
  "language_info": {
   "codemirror_mode": {
    "name": "ipython",
    "version": 3
   },
   "file_extension": ".py",
   "mimetype": "text/x-python",
   "name": "python",
   "nbconvert_exporter": "python",
   "pygments_lexer": "ipython3",
   "version": "3.6.2"
  }
 },
 "nbformat": 4,
 "nbformat_minor": 2
}
