{
 "cells": [
  {
   "cell_type": "markdown",
   "metadata": {},
   "source": [
    "# About this Website\n",
    "\n",
    "This website is to \n",
    "\n",
    "# A little bit about me\n",
    "\n",
    "My dream is to be a data scientist after graduation. Driving insights from data is just be cool. You can know more from [about me](https://zigzagjie.github.io/aboutme/)\n",
    "\n",
    "\n",
    "# Topics I am interested"
   ]
  }
 ],
 "metadata": {
  "kernelspec": {
   "display_name": "Python 3",
   "language": "python",
   "name": "python3"
  },
  "language_info": {
   "codemirror_mode": {
    "name": "ipython",
    "version": 3
   },
   "file_extension": ".py",
   "mimetype": "text/x-python",
   "name": "python",
   "nbconvert_exporter": "python",
   "pygments_lexer": "ipython3",
   "version": "3.6.2"
  }
 },
 "nbformat": 4,
 "nbformat_minor": 2
}
